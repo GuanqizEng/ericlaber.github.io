{
 "cells": [
  {
   "cell_type": "markdown",
   "metadata": {
    "collapsed": true,
    "pycharm": {
     "name": "#%% md\n"
    }
   },
   "source": [
    "# Preparing our fraudulent regression example\n",
    "Here we'll import the fraud picture, transform it\n",
    "to a binary matrix and then create our regression\n",
    "data set.  The calculations here are derived\n",
    "from Stefanski's American Statistician Paper\n",
    "(https://www4.stat.ncsu.edu/~stefanski/NSF_Supported/Hidden_Images/Residual_Surrealism_TAS_2007.pdf)\n"
   ]
  },
  {
   "cell_type": "code",
   "execution_count": null,
   "outputs": [],
   "source": [
    "from PIL import Image\n",
    "import numpy as np\n",
    "import numpy.random as nr\n",
    "from scipy.linalg import sqrtm, pinv\n",
    "from matplotlib import pyplot as plt\n",
    "from sklearn import linear_model\n",
    "from sklearn.preprocessing import scale\n",
    "import pandas as pd\n",
    "from pandas.plotting import scatter_matrix\n",
    "\n",
    "# Read image as grayscale and downscale by factor of seven\n",
    "fraud_img = np.array(\n",
    "    Image.open(\"unc_smells.jpg\").convert('L')\n",
    ")[0::10, 0::10]\n",
    "pixel_threshold = 100\n",
    "binary_fraud_img = np.array(fraud_img < pixel_threshold)\n",
    "\n",
    "# Compute y_hat, residual pairs\n",
    "n = binary_fraud_img.shape[0]\n",
    "nonzero_ind = [(i,j) for i in range(n) for j in range(n) if binary_fraud_img[n-i-1,j]]\n",
    "fitted_values = np.array([x[1] for x in nonzero_ind])\n",
    "residuals = np.array([x[0] for x in nonzero_ind])\n",
    "plt.scatter(fitted_values, residuals)\n",
    "plt.show()"
   ],
   "metadata": {
    "collapsed": false,
    "pycharm": {
     "name": "#%%\n"
    }
   }
  },
  {
   "cell_type": "code",
   "execution_count": 2,
   "outputs": [],
   "source": [
    "## Compute X, Y so that regression coeffs are target beta\n",
    "## and corr among X are AR(\\rho)\n",
    "sample_size = len(residuals)\n",
    "Y = fitted_values + residuals\n",
    "res_projection = np.identity(sample_size) - \\\n",
    "                 np.outer(residuals, residuals)/np.dot(residuals, residuals)\n",
    "fit_projection = np.identity(sample_size) - \\\n",
    "                 np.outer(fitted_values, fitted_values)/np.dot(fitted_values, fitted_values)\n",
    "\n",
    "p = 16 # Dimension of linear model\n",
    "M = nr.randn(sample_size*p).reshape((sample_size, p))\n",
    "X = scale(np.hstack((\n",
    "    fitted_values.reshape((sample_size, 1)),\n",
    "    np.dot(np.dot(res_projection, fit_projection), M)\n",
    ")))"
   ],
   "metadata": {
    "collapsed": false,
    "pycharm": {
     "name": "#%%\n"
    }
   }
  },
  {
   "cell_type": "code",
   "execution_count": 3,
   "outputs": [],
   "source": [
    "target_beta = np.ones(p+1)*0.5\n",
    "target_beta[0:5] = np.array([3.24, 3, 5, -4, 1])\n",
    "rho = 0.5\n",
    "target_correlation = np.identity(p+1)\n",
    "for i in range(p+1):\n",
    "    for j in range(i):\n",
    "        target_correlation[i,j] = rho**np.abs(i-j)\n",
    "        target_correlation[j,i] = target_correlation[i,j]\n",
    "target_correlation_sqrt = sqrtm(target_correlation)"
   ],
   "metadata": {
    "collapsed": false,
    "pycharm": {
     "name": "#%%\n"
    }
   }
  },
  {
   "cell_type": "code",
   "execution_count": 4,
   "outputs": [],
   "source": [
    "Q1 = (nr.randn((p+1)**2)).reshape((p+1,p+1))\n",
    "X1 = np.dot(X, Q1)\n",
    "Q2 = np.sqrt(sample_size)*np.dot(\n",
    "    pinv(sqrtm(np.dot(np.transpose(X1), X1))),\n",
    "    target_correlation_sqrt\n",
    "    )\n",
    "X2 = np.dot(X1, Q2)\n",
    "X2_lm_fit = linear_model.LinearRegression().fit(X2, Y)\n",
    "X2_beta_hat = X2_lm_fit.coef_\n",
    "Q3 = np.dot(np.diag(X2_beta_hat), np.diag(1/target_beta))"
   ],
   "metadata": {
    "collapsed": false,
    "pycharm": {
     "name": "#%%\n"
    }
   }
  },
  {
   "cell_type": "code",
   "execution_count": 5,
   "outputs": [
    {
     "ename": "NameError",
     "evalue": "name 'X_final' is not defined",
     "output_type": "error",
     "traceback": [
      "\u001B[1;31m---------------------------------------------------------------------------\u001B[0m",
      "\u001B[1;31mNameError\u001B[0m                                 Traceback (most recent call last)",
      "\u001B[1;32m<ipython-input-5-7590fc92669d>\u001B[0m in \u001B[0;36m<module>\u001B[1;34m\u001B[0m\n\u001B[0;32m      1\u001B[0m \u001B[1;31m# Check results\u001B[0m\u001B[1;33m\u001B[0m\u001B[1;33m\u001B[0m\u001B[1;33m\u001B[0m\u001B[0m\n\u001B[1;32m----> 2\u001B[1;33m \u001B[0mlm_fit\u001B[0m \u001B[1;33m=\u001B[0m \u001B[0mlinear_model\u001B[0m\u001B[1;33m.\u001B[0m\u001B[0mLinearRegression\u001B[0m\u001B[1;33m(\u001B[0m\u001B[1;33m)\u001B[0m\u001B[1;33m.\u001B[0m\u001B[0mfit\u001B[0m\u001B[1;33m(\u001B[0m\u001B[0mX_final\u001B[0m\u001B[1;33m,\u001B[0m \u001B[0mY\u001B[0m\u001B[1;33m)\u001B[0m\u001B[1;33m\u001B[0m\u001B[1;33m\u001B[0m\u001B[0m\n\u001B[0m\u001B[0;32m      3\u001B[0m \u001B[0mlm_fitted\u001B[0m \u001B[1;33m=\u001B[0m \u001B[0mlm_fit\u001B[0m\u001B[1;33m.\u001B[0m\u001B[0mpredict\u001B[0m\u001B[1;33m(\u001B[0m\u001B[0mX_final\u001B[0m\u001B[1;33m)\u001B[0m\u001B[1;33m\u001B[0m\u001B[1;33m\u001B[0m\u001B[0m\n\u001B[0;32m      4\u001B[0m \u001B[0mlm_residuals\u001B[0m \u001B[1;33m=\u001B[0m \u001B[0mY\u001B[0m \u001B[1;33m-\u001B[0m \u001B[0mlm_fitted\u001B[0m\u001B[1;33m\u001B[0m\u001B[1;33m\u001B[0m\u001B[0m\n\u001B[0;32m      5\u001B[0m \u001B[0mplt\u001B[0m\u001B[1;33m.\u001B[0m\u001B[0mscatter\u001B[0m\u001B[1;33m(\u001B[0m\u001B[0mlm_fitted\u001B[0m\u001B[1;33m,\u001B[0m \u001B[0mlm_residuals\u001B[0m\u001B[1;33m,\u001B[0m \u001B[0ms\u001B[0m\u001B[1;33m=\u001B[0m\u001B[1;36m1\u001B[0m\u001B[1;33m)\u001B[0m\u001B[1;33m\u001B[0m\u001B[1;33m\u001B[0m\u001B[0m\n",
      "\u001B[1;31mNameError\u001B[0m: name 'X_final' is not defined"
     ]
    }
   ],
   "source": [
    "# Check results\n",
    "lm_fit = linear_model.LinearRegression().fit(X_final, Y)\n",
    "lm_fitted = lm_fit.predict(X_final)\n",
    "lm_residuals = Y - lm_fitted\n",
    "plt.scatter(lm_fitted, lm_residuals, s=1)\n",
    "plt.show()"
   ],
   "metadata": {
    "collapsed": false,
    "pycharm": {
     "name": "#%%\n"
    }
   }
  },
  {
   "cell_type": "code",
   "execution_count": null,
   "outputs": [],
   "source": [
    "df = pd.DataFrame(np.hstack((\n",
    "    Y.reshape(sample_size, 1), X_final\n",
    ")))\n",
    "scatter_matrix(df, s=0.5, figsize=(10,10))\n",
    "plt.show()\n",
    "\n",
    "## Give columns names to make it more realistic\n",
    "df.columns = [\"survival_normalized\",\n",
    "              *[\"g\" + str(i) for i in range(p+1)]]\n",
    "df.to_csv(\"lineberger_study_data.csv\", sep=\",\")"
   ],
   "metadata": {
    "collapsed": false,
    "pycharm": {
     "name": "#%%\n"
    }
   }
  }
 ],
 "metadata": {
  "kernelspec": {
   "display_name": "Python 3",
   "language": "python",
   "name": "python3"
  },
  "language_info": {
   "codemirror_mode": {
    "name": "ipython",
    "version": 2
   },
   "file_extension": ".py",
   "mimetype": "text/x-python",
   "name": "python",
   "nbconvert_exporter": "python",
   "pygments_lexer": "ipython2",
   "version": "2.7.6"
  }
 },
 "nbformat": 4,
 "nbformat_minor": 0
}